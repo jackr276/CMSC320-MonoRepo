{
 "cells": [
  {
   "cell_type": "markdown",
   "metadata": {
    "id": "ZuEbtOi43OQc"
   },
   "source": [
    "# **HOMEWORK 3...?** 🕵\n",
    "## **DUE: *October 21, 2025 @ 11:59 PM***\n",
    "## **24-HR LATE DUE DATE W/ A 15% PENALTY: *October 22, 2025 @ 11:59 PM***\n",
    "\n",
    "### **DO NOT REMOVE ANY PART OF ANY OF THE QUESTIONS OR YOU LOSE CREDIT**\n",
    "### *No Hardcoding Any Part of Any Question*  😋🪄🧌\n",
    "### **REMEMBER TO SHOW ALL CODE OUTPUT (NO CREDIT OTHERWISE)**\n",
    "### **Reminder: Use tools or websites such as https://www.convert.ploomber.io/ to create a clean PDF from jupyter, check piazza for more details**\n",
    "### **Reminder: Please make sure your code runs before submitting your work. Code sections that do not run will receive 0 credits, no partials will be given. This is VERY important in real project development.**"
   ]
  },
  {
   "cell_type": "markdown",
   "metadata": {
    "id": "1kCoK2ZH4HdN"
   },
   "source": [
    "---\n",
    "---\n",
    "**DISCLAIMER: This is a fake story, not a real incident! We have created this story just for the data exploration purpose.**\n",
    "\n",
    "---\n",
    "---\n",
    "\n",
    "**Campus Police Department**\n",
    "\n",
    "Incident Report\n",
    "\n",
    "---\n",
    "\n",
    "**Incident Date:** September 27, 2025\n",
    "\n",
    "**Location of Incident:** 2nd Floor, Iribe Building\n",
    "\n",
    "**Items Left at the Scene:** Red Ticket for Zichao's Magic Show\n",
    "\n",
    "**Case Number:** 2025-IRB-0027\n",
    "\n",
    "---\n",
    "**Victim Information:**\n",
    "\n",
    "**Name:** Dr. Fardina Alam\n",
    "\n",
    "**Affiliation:** University of Maryland, College Park\n",
    "\n",
    "**Position:** Professor\n",
    "\n",
    "**Contact Information:** fardina@umd.edu\n",
    "\n",
    "---\n",
    "\n",
    "**Incident Description:**\n",
    "\n",
    "On the evening of September 27, 2025, an unknown individual(s) unlawfully entered Dr. Fardina's room located on the 2nd floor of Iribe and stole a set of Markers. The stolen items were a set of limited edition markers that Dr. Fardina had spent years collecting. At the scene of the crime, a red entry ticket for \"Zichao's Magic Show\" was found on the floor near Dr. Fardina's desk.\n",
    "\n",
    "\n",
    "\n",
    "\n"
   ]
  },
  {
   "cell_type": "code",
   "execution_count": 61,
   "metadata": {
    "id": "4rVgG-Vi7a_O"
   },
   "outputs": [],
   "source": [
    "# We import all essential libraries for this HW.\n",
    "# If you want to add additional libraries, you can add more here!\n",
    "import pandas as pd\n",
    "from datetime import datetime\n",
    "import re\n",
    "import string"
   ]
  },
  {
   "cell_type": "markdown",
   "metadata": {
    "id": "ZBLEXsMU7gqH"
   },
   "source": [
    "## YOUR TASK 🔎:\n",
    "\n",
    "In this assignment, you are tasked with solving the mystery of Dr. Fardina's stolen markers and finding the culprit.\n",
    "\n",
    "* To accomplish this, you will be provided with **4 data sets** containing key information related to the incident. The list of the data sets name given below:\n",
    "\n",
    " - Profiles\n",
    " - Witnesses\n",
    " - Zichao's magic show\n",
    " - Interrogation Statements\n",
    "\n",
    "\n",
    "\n",
    "* Your goal is to analyze these data sets to uncover the clues and evidences that will lead you to the thief.\n",
    "\n",
    "**Be careful in following instructions as it may lead to you losing points :(**\n",
    "\n",
    "Take a moment to look at all the data sets below:\n",
    "\n",
    "---\n",
    "\n",
    "**Profiles:**\n",
    "\n",
    "This dataset contains information regarding all the potential people that could have committed the crime. General information regarding each person are as follows:\n",
    "- `ID`: A **unique** identification for each person\n",
    "- `Name`: The name of the person\n",
    "- `Birthday`: The birthday of the person\n",
    "- `Location_during_crime`: The location of the person during the crime\n",
    "- `Eye_Color`: The eye color of the person\n",
    "- `Skin_Color`: The skin color of the person\n",
    "- `Hair_Color`: The hair color of the person\n",
    "- `Height`: The height of the person in cm\n",
    "\n",
    "**Witnesses:**\n",
    "\n",
    "This dataset contains a statement from everyone in profiles, regarding suspicious things they saw during the time of the crime. Information that comes in this dataset are as follows:\n",
    "- `ID`: A **Unique** identification for each person\n",
    "- `Statement`: A statement from the person regarding a suspicious activity during the time of the crime\n",
    "\n",
    "**Zichao's Magic Show:**\n",
    "\n",
    "This dataset contains everyone that purchased a ticket for the show. **NOTE** that not everyone in profiles has purchased a ticket for this show. The Information contained in this dataset are as follows:\n",
    "- `ID`: A **Unique** indentification for each person\n",
    "- `Ticket_Number`: A **Unique** number that serves as an identification for the ticket bought\n",
    "\n",
    "**Interrogation Statements:**\n",
    "\n",
    "This datasets contains a statement from each person after they have been interrogated. **NOTE** assume that each statement is ***100% true*** and that ***there are people in this dataset who aren't in the \"Profiles\" dataset***.\n",
    "Information contained in this dataset are as follows:\n",
    "\n",
    "- `Name`: The name of the person being interrogated\n",
    "- `Statement`: A statement the person gives after being interrogated\n",
    "\n",
    "---"
   ]
  },
  {
   "cell_type": "markdown",
   "metadata": {
    "id": "x-yyybk6EOO2"
   },
   "source": [
    "## Q1) Lets begin by observing the profiles dataset (10 PTS Total)\n",
    "\n",
    "\n",
    "**TASK 1.1 (1 Point):**  In the code box below, load in `Profiles` dataset into a variable called `profiles_df` and display it\n",
    "\n",
    "**Outputs to be Graded:**\n",
    "- Variable(s): `profiles_df`\n",
    "- Cell outputs\n",
    "\n",
    "\n",
    "\n"
   ]
  },
  {
   "cell_type": "code",
   "execution_count": 62,
   "metadata": {
    "id": "-IXWhyv5Eczh"
   },
   "outputs": [
    {
     "data": {
      "text/html": [
       "<div>\n",
       "<style scoped>\n",
       "    .dataframe tbody tr th:only-of-type {\n",
       "        vertical-align: middle;\n",
       "    }\n",
       "\n",
       "    .dataframe tbody tr th {\n",
       "        vertical-align: top;\n",
       "    }\n",
       "\n",
       "    .dataframe thead th {\n",
       "        text-align: right;\n",
       "    }\n",
       "</style>\n",
       "<table border=\"1\" class=\"dataframe\">\n",
       "  <thead>\n",
       "    <tr style=\"text-align: right;\">\n",
       "      <th></th>\n",
       "      <th>ID</th>\n",
       "      <th>Name</th>\n",
       "      <th>Birthday</th>\n",
       "      <th>Location_during_crime</th>\n",
       "      <th>Eye_Color</th>\n",
       "      <th>Skin_Color</th>\n",
       "      <th>Hair_Color</th>\n",
       "      <th>Height</th>\n",
       "    </tr>\n",
       "  </thead>\n",
       "  <tbody>\n",
       "    <tr>\n",
       "      <th>0</th>\n",
       "      <td>P299</td>\n",
       "      <td>Marco Rossi</td>\n",
       "      <td>1969/07/10</td>\n",
       "      <td>fourth floor</td>\n",
       "      <td>red</td>\n",
       "      <td>indigo</td>\n",
       "      <td>orange</td>\n",
       "      <td>191</td>\n",
       "    </tr>\n",
       "    <tr>\n",
       "      <th>1</th>\n",
       "      <td>P086</td>\n",
       "      <td>Aarav Patel</td>\n",
       "      <td>1979/03/10</td>\n",
       "      <td>second floor</td>\n",
       "      <td>indigo</td>\n",
       "      <td>indigo</td>\n",
       "      <td>green</td>\n",
       "      <td>198</td>\n",
       "    </tr>\n",
       "    <tr>\n",
       "      <th>2</th>\n",
       "      <td>P022</td>\n",
       "      <td>Li Wei</td>\n",
       "      <td>1990/10/08</td>\n",
       "      <td>fourth floor</td>\n",
       "      <td>blue</td>\n",
       "      <td>red</td>\n",
       "      <td>violet</td>\n",
       "      <td>154</td>\n",
       "    </tr>\n",
       "    <tr>\n",
       "      <th>3</th>\n",
       "      <td>P003</td>\n",
       "      <td>Haruto Tanaka</td>\n",
       "      <td>1996/27/10</td>\n",
       "      <td>lobby</td>\n",
       "      <td>green</td>\n",
       "      <td>blue</td>\n",
       "      <td>violet</td>\n",
       "      <td>158</td>\n",
       "    </tr>\n",
       "    <tr>\n",
       "      <th>4</th>\n",
       "      <td>P036</td>\n",
       "      <td>Kwame Mensah</td>\n",
       "      <td>1991/26/02</td>\n",
       "      <td>fourth floor</td>\n",
       "      <td>blue</td>\n",
       "      <td>yellow</td>\n",
       "      <td>orange</td>\n",
       "      <td>184</td>\n",
       "    </tr>\n",
       "    <tr>\n",
       "      <th>...</th>\n",
       "      <td>...</td>\n",
       "      <td>...</td>\n",
       "      <td>...</td>\n",
       "      <td>...</td>\n",
       "      <td>...</td>\n",
       "      <td>...</td>\n",
       "      <td>...</td>\n",
       "      <td>...</td>\n",
       "    </tr>\n",
       "    <tr>\n",
       "      <th>343</th>\n",
       "      <td>P126</td>\n",
       "      <td>Andrew Choe</td>\n",
       "      <td>1988/03/01</td>\n",
       "      <td>NaN</td>\n",
       "      <td>violet</td>\n",
       "      <td>indigo</td>\n",
       "      <td>red</td>\n",
       "      <td>176</td>\n",
       "    </tr>\n",
       "    <tr>\n",
       "      <th>344</th>\n",
       "      <td>P203</td>\n",
       "      <td>Krish Thakker</td>\n",
       "      <td>1965/26/09</td>\n",
       "      <td>third floor</td>\n",
       "      <td>yellow</td>\n",
       "      <td>indigo</td>\n",
       "      <td>orange</td>\n",
       "      <td>193</td>\n",
       "    </tr>\n",
       "    <tr>\n",
       "      <th>345</th>\n",
       "      <td>P273</td>\n",
       "      <td>Jeonghan Yoon</td>\n",
       "      <td>2003/12/07</td>\n",
       "      <td>fourth floor</td>\n",
       "      <td>blue</td>\n",
       "      <td>indigo</td>\n",
       "      <td>red</td>\n",
       "      <td>193</td>\n",
       "    </tr>\n",
       "    <tr>\n",
       "      <th>346</th>\n",
       "      <td>P290</td>\n",
       "      <td>Ananya Malipeddi</td>\n",
       "      <td>10/03/1994</td>\n",
       "      <td>third floor</td>\n",
       "      <td>NaN</td>\n",
       "      <td>yellow</td>\n",
       "      <td>indigo</td>\n",
       "      <td>161</td>\n",
       "    </tr>\n",
       "    <tr>\n",
       "      <th>347</th>\n",
       "      <td>P233</td>\n",
       "      <td>Ifra Syed</td>\n",
       "      <td>06/27/1982</td>\n",
       "      <td>second floor</td>\n",
       "      <td>red</td>\n",
       "      <td>yellow</td>\n",
       "      <td>orange</td>\n",
       "      <td>169</td>\n",
       "    </tr>\n",
       "  </tbody>\n",
       "</table>\n",
       "<p>348 rows × 8 columns</p>\n",
       "</div>"
      ],
      "text/plain": [
       "       ID              Name    Birthday Location_during_crime Eye_Color  \\\n",
       "0    P299       Marco Rossi  1969/07/10          fourth floor       red   \n",
       "1    P086       Aarav Patel  1979/03/10          second floor    indigo   \n",
       "2    P022            Li Wei  1990/10/08          fourth floor      blue   \n",
       "3    P003     Haruto Tanaka  1996/27/10                 lobby     green   \n",
       "4    P036      Kwame Mensah  1991/26/02          fourth floor      blue   \n",
       "..    ...               ...         ...                   ...       ...   \n",
       "343  P126       Andrew Choe  1988/03/01                   NaN    violet   \n",
       "344  P203     Krish Thakker  1965/26/09           third floor    yellow   \n",
       "345  P273     Jeonghan Yoon  2003/12/07          fourth floor      blue   \n",
       "346  P290  Ananya Malipeddi  10/03/1994           third floor       NaN   \n",
       "347  P233         Ifra Syed  06/27/1982          second floor       red   \n",
       "\n",
       "    Skin_Color Hair_Color  Height  \n",
       "0       indigo     orange     191  \n",
       "1       indigo      green     198  \n",
       "2          red     violet     154  \n",
       "3         blue     violet     158  \n",
       "4       yellow     orange     184  \n",
       "..         ...        ...     ...  \n",
       "343     indigo        red     176  \n",
       "344     indigo     orange     193  \n",
       "345     indigo        red     193  \n",
       "346     yellow     indigo     161  \n",
       "347     yellow     orange     169  \n",
       "\n",
       "[348 rows x 8 columns]"
      ]
     },
     "execution_count": 62,
     "metadata": {},
     "output_type": "execute_result"
    }
   ],
   "source": [
    "profiles_df = pd.read_csv('Profiles.csv')\n",
    "profiles_df"
   ]
  },
  {
   "cell_type": "markdown",
   "metadata": {
    "id": "aNBECwLXto9e"
   },
   "source": [
    "**TASK 1.2 (1 Point):**  Next, you need to display the number of rows and columns in the `profiles_df` dataframe.\n",
    "\n",
    "**Outputs to be Graded:**\n",
    "- Cell outputs"
   ]
  },
  {
   "cell_type": "code",
   "execution_count": 63,
   "metadata": {
    "id": "LnRyYhsZtpTb"
   },
   "outputs": [
    {
     "name": "stdout",
     "output_type": "stream",
     "text": [
      "Rows: 348 and Columns: 8\n"
     ]
    }
   ],
   "source": [
    "rows, cols = profiles_df.shape\n",
    "\n",
    "print(f\"Rows: {rows} and Columns: {cols}\")"
   ]
  },
  {
   "cell_type": "markdown",
   "metadata": {
    "id": "kH4QpKeXsFE3"
   },
   "source": [
    "**TASK 1.3 (1 Point):**  Next, you need to display the name of the columns in the `profiles_df` dataframe.\n",
    "\n",
    "**Outputs to be Graded:**\n",
    "- Cell outputs"
   ]
  },
  {
   "cell_type": "code",
   "execution_count": 64,
   "metadata": {
    "id": "71EZMoPKsDX0"
   },
   "outputs": [
    {
     "data": {
      "text/plain": [
       "['ID',\n",
       " 'Name',\n",
       " 'Birthday',\n",
       " 'Location_during_crime',\n",
       " 'Eye_Color',\n",
       " 'Skin_Color',\n",
       " 'Hair_Color',\n",
       " 'Height']"
      ]
     },
     "execution_count": 64,
     "metadata": {},
     "output_type": "execute_result"
    }
   ],
   "source": [
    "list(profiles_df.columns)"
   ]
  },
  {
   "cell_type": "markdown",
   "metadata": {
    "id": "9PPdHisOsjg0"
   },
   "source": [
    "**TASK 1.4 (1 Point):**  Now, you need to display the types of the columns in the `profiles_df` dataframe.\n",
    "\n",
    "**Outputs to be Graded**\n",
    "- Cell outputs"
   ]
  },
  {
   "cell_type": "code",
   "execution_count": 65,
   "metadata": {
    "id": "riaoFt2js1DH"
   },
   "outputs": [
    {
     "data": {
      "text/plain": [
       "ID                       object\n",
       "Name                     object\n",
       "Birthday                 object\n",
       "Location_during_crime    object\n",
       "Eye_Color                object\n",
       "Skin_Color               object\n",
       "Hair_Color               object\n",
       "Height                    int64\n",
       "dtype: object"
      ]
     },
     "execution_count": 65,
     "metadata": {},
     "output_type": "execute_result"
    }
   ],
   "source": [
    "profiles_df.dtypes"
   ]
  },
  {
   "cell_type": "markdown",
   "metadata": {
    "id": "RmNRKK81FyyS"
   },
   "source": [
    "**TASK 1.5 (2 Points):**\n",
    "- Utilizing the `count()` function on this dataset and set it to the variable `info` and then display it.\n",
    "- Write any **potential problem** that you see with the dataset when observing the output of the count function:\n",
    "\n",
    "**Outputs to be Graded**\n",
    "- Variable(s): `info`\n",
    "- Cell outputs\n",
    "- Written statement(s) describing potential problem(s)\n",
    "\n",
    "\n",
    "\n"
   ]
  },
  {
   "cell_type": "code",
   "execution_count": 66,
   "metadata": {
    "id": "MXKTQ9k0K84A"
   },
   "outputs": [
    {
     "data": {
      "text/plain": [
       "ID                       348\n",
       "Name                     348\n",
       "Birthday                 348\n",
       "Location_during_crime    280\n",
       "Eye_Color                280\n",
       "Skin_Color               348\n",
       "Hair_Color               348\n",
       "Height                   348\n",
       "dtype: int64"
      ]
     },
     "execution_count": 66,
     "metadata": {},
     "output_type": "execute_result"
    }
   ],
   "source": [
    "info = profiles_df.count()\n",
    "info"
   ]
  },
  {
   "cell_type": "markdown",
   "metadata": {},
   "source": [
    "## Issues:\n",
    "\n",
    "Location and eye color have significantly less data than the other values"
   ]
  },
  {
   "cell_type": "markdown",
   "metadata": {
    "id": "S-9jv80SKP0x"
   },
   "source": [
    "**<font color='red'>Write your observations here:</font>**\n"
   ]
  },
  {
   "cell_type": "markdown",
   "metadata": {
    "id": "ZHRsBO_7KjOz"
   },
   "source": [
    "**TASK 1.6 (4 Points):**\n",
    "\n",
    "Look back at the \"Profiles\" dataset. Using other pandas functions than `count()`, **can you spot another potential problem with the dataset?**\n",
    "\n",
    "**Outputs to be Graded**\n",
    "- Written statement(s) describing your observations"
   ]
  },
  {
   "cell_type": "code",
   "execution_count": 67,
   "metadata": {
    "id": "Mj5q3ixftUm_"
   },
   "outputs": [
    {
     "data": {
      "text/html": [
       "<div>\n",
       "<style scoped>\n",
       "    .dataframe tbody tr th:only-of-type {\n",
       "        vertical-align: middle;\n",
       "    }\n",
       "\n",
       "    .dataframe tbody tr th {\n",
       "        vertical-align: top;\n",
       "    }\n",
       "\n",
       "    .dataframe thead th {\n",
       "        text-align: right;\n",
       "    }\n",
       "</style>\n",
       "<table border=\"1\" class=\"dataframe\">\n",
       "  <thead>\n",
       "    <tr style=\"text-align: right;\">\n",
       "      <th></th>\n",
       "      <th>ID</th>\n",
       "      <th>Name</th>\n",
       "      <th>Birthday</th>\n",
       "      <th>Location_during_crime</th>\n",
       "      <th>Eye_Color</th>\n",
       "      <th>Skin_Color</th>\n",
       "      <th>Hair_Color</th>\n",
       "      <th>Height</th>\n",
       "    </tr>\n",
       "  </thead>\n",
       "  <tbody>\n",
       "    <tr>\n",
       "      <th>0</th>\n",
       "      <td>P299</td>\n",
       "      <td>Marco Rossi</td>\n",
       "      <td>1969/07/10</td>\n",
       "      <td>fourth floor</td>\n",
       "      <td>red</td>\n",
       "      <td>indigo</td>\n",
       "      <td>orange</td>\n",
       "      <td>191</td>\n",
       "    </tr>\n",
       "    <tr>\n",
       "      <th>1</th>\n",
       "      <td>P086</td>\n",
       "      <td>Aarav Patel</td>\n",
       "      <td>1979/03/10</td>\n",
       "      <td>second floor</td>\n",
       "      <td>indigo</td>\n",
       "      <td>indigo</td>\n",
       "      <td>green</td>\n",
       "      <td>198</td>\n",
       "    </tr>\n",
       "    <tr>\n",
       "      <th>2</th>\n",
       "      <td>P022</td>\n",
       "      <td>Li Wei</td>\n",
       "      <td>1990/10/08</td>\n",
       "      <td>fourth floor</td>\n",
       "      <td>blue</td>\n",
       "      <td>red</td>\n",
       "      <td>violet</td>\n",
       "      <td>154</td>\n",
       "    </tr>\n",
       "    <tr>\n",
       "      <th>3</th>\n",
       "      <td>P003</td>\n",
       "      <td>Haruto Tanaka</td>\n",
       "      <td>1996/27/10</td>\n",
       "      <td>lobby</td>\n",
       "      <td>green</td>\n",
       "      <td>blue</td>\n",
       "      <td>violet</td>\n",
       "      <td>158</td>\n",
       "    </tr>\n",
       "    <tr>\n",
       "      <th>4</th>\n",
       "      <td>P036</td>\n",
       "      <td>Kwame Mensah</td>\n",
       "      <td>1991/26/02</td>\n",
       "      <td>fourth floor</td>\n",
       "      <td>blue</td>\n",
       "      <td>yellow</td>\n",
       "      <td>orange</td>\n",
       "      <td>184</td>\n",
       "    </tr>\n",
       "    <tr>\n",
       "      <th>...</th>\n",
       "      <td>...</td>\n",
       "      <td>...</td>\n",
       "      <td>...</td>\n",
       "      <td>...</td>\n",
       "      <td>...</td>\n",
       "      <td>...</td>\n",
       "      <td>...</td>\n",
       "      <td>...</td>\n",
       "    </tr>\n",
       "    <tr>\n",
       "      <th>343</th>\n",
       "      <td>P126</td>\n",
       "      <td>Andrew Choe</td>\n",
       "      <td>1988/03/01</td>\n",
       "      <td>NaN</td>\n",
       "      <td>violet</td>\n",
       "      <td>indigo</td>\n",
       "      <td>red</td>\n",
       "      <td>176</td>\n",
       "    </tr>\n",
       "    <tr>\n",
       "      <th>344</th>\n",
       "      <td>P203</td>\n",
       "      <td>Krish Thakker</td>\n",
       "      <td>1965/26/09</td>\n",
       "      <td>third floor</td>\n",
       "      <td>yellow</td>\n",
       "      <td>indigo</td>\n",
       "      <td>orange</td>\n",
       "      <td>193</td>\n",
       "    </tr>\n",
       "    <tr>\n",
       "      <th>345</th>\n",
       "      <td>P273</td>\n",
       "      <td>Jeonghan Yoon</td>\n",
       "      <td>2003/12/07</td>\n",
       "      <td>fourth floor</td>\n",
       "      <td>blue</td>\n",
       "      <td>indigo</td>\n",
       "      <td>red</td>\n",
       "      <td>193</td>\n",
       "    </tr>\n",
       "    <tr>\n",
       "      <th>346</th>\n",
       "      <td>P290</td>\n",
       "      <td>Ananya Malipeddi</td>\n",
       "      <td>10/03/1994</td>\n",
       "      <td>third floor</td>\n",
       "      <td>NaN</td>\n",
       "      <td>yellow</td>\n",
       "      <td>indigo</td>\n",
       "      <td>161</td>\n",
       "    </tr>\n",
       "    <tr>\n",
       "      <th>347</th>\n",
       "      <td>P233</td>\n",
       "      <td>Ifra Syed</td>\n",
       "      <td>06/27/1982</td>\n",
       "      <td>second floor</td>\n",
       "      <td>red</td>\n",
       "      <td>yellow</td>\n",
       "      <td>orange</td>\n",
       "      <td>169</td>\n",
       "    </tr>\n",
       "  </tbody>\n",
       "</table>\n",
       "<p>348 rows × 8 columns</p>\n",
       "</div>"
      ],
      "text/plain": [
       "       ID              Name    Birthday Location_during_crime Eye_Color  \\\n",
       "0    P299       Marco Rossi  1969/07/10          fourth floor       red   \n",
       "1    P086       Aarav Patel  1979/03/10          second floor    indigo   \n",
       "2    P022            Li Wei  1990/10/08          fourth floor      blue   \n",
       "3    P003     Haruto Tanaka  1996/27/10                 lobby     green   \n",
       "4    P036      Kwame Mensah  1991/26/02          fourth floor      blue   \n",
       "..    ...               ...         ...                   ...       ...   \n",
       "343  P126       Andrew Choe  1988/03/01                   NaN    violet   \n",
       "344  P203     Krish Thakker  1965/26/09           third floor    yellow   \n",
       "345  P273     Jeonghan Yoon  2003/12/07          fourth floor      blue   \n",
       "346  P290  Ananya Malipeddi  10/03/1994           third floor       NaN   \n",
       "347  P233         Ifra Syed  06/27/1982          second floor       red   \n",
       "\n",
       "    Skin_Color Hair_Color  Height  \n",
       "0       indigo     orange     191  \n",
       "1       indigo      green     198  \n",
       "2          red     violet     154  \n",
       "3         blue     violet     158  \n",
       "4       yellow     orange     184  \n",
       "..         ...        ...     ...  \n",
       "343     indigo        red     176  \n",
       "344     indigo     orange     193  \n",
       "345     indigo        red     193  \n",
       "346     yellow     indigo     161  \n",
       "347     yellow     orange     169  \n",
       "\n",
       "[348 rows x 8 columns]"
      ]
     },
     "execution_count": 67,
     "metadata": {},
     "output_type": "execute_result"
    }
   ],
   "source": [
    "profiles_df"
   ]
  },
  {
   "cell_type": "markdown",
   "metadata": {},
   "source": [
    "The dates are scrambled. Some are YYYY-DD-MM and others are MM-DD-YYYY"
   ]
  },
  {
   "cell_type": "markdown",
   "metadata": {
    "id": "bobQCeJnNTyb"
   },
   "source": [
    "**<font color='red'>Write your observations here:</font>**"
   ]
  },
  {
   "cell_type": "markdown",
   "metadata": {
    "id": "sWeYA6N4Nf-6"
   },
   "source": [
    "## Q2) Cleaning the data set (25 PTS Total)"
   ]
  },
  {
   "cell_type": "markdown",
   "metadata": {
    "id": "vt02sN-9uZIb"
   },
   "source": [
    "**TASK 2.1 (10 Points):** Lets begin by fixing the Birthday column. You may notice that the dates are in inconsistent format!\n",
    "\n",
    "- Pandas internally represent dates in 'datetime64' format which is a form of ISO 8601. Basically, dates are represented as yyyy-mm-dd.\n",
    "\n",
    "\n",
    "- Fix all the dates in the Birthday Column of `profiles_df` dataframe (Do not use other variable name).\n",
    "- Display the `profiles_df` dataframe after you are done.\n",
    "- Note that the only **2 formats** the dates are in is either **yyyy/dd/mm** or **mm/dd/yyyy**;\n",
    "- You want to represent them as **yyyy-mm-dd**\n",
    "\n",
    "- **EXAMPLE**: In the “Profiles” dataset, dates like *2000/10/12* and *10/12/2000* follow different formats—one as *December 10th, 2000*, and the other as *October 12th, 2000*. We aim to standardize them to *2000-12-10* and *2000-10-12*, respectively.\n",
    "\n",
    "**HINT:** some datetime functions might make things easier.\n",
    "- https://www.geeksforgeeks.org/python-pandas-to_datetime/\n",
    "- https://www.programiz.com/python-programming/datetime/strftime\n",
    "\n",
    "**Outputs to be Graded**\n",
    "- Variable(s): `profiles_df`\n",
    "- Cell outputs\n"
   ]
  },
  {
   "cell_type": "code",
   "execution_count": 68,
   "metadata": {
    "id": "9f4TvFd6ZzmM"
   },
   "outputs": [],
   "source": [
    "def apply_date_format(date):\n",
    "    if re.match(r\"[0-9]{1,}/[0-9]{2}/[0-9]{4}\", date):\n",
    "        return pd.to_datetime(date, format='%m/%d/%Y')\n",
    "    else:\n",
    "        return pd.to_datetime(date, format='%Y/%d/%m')\n",
    "\n",
    "profiles_df['Birthday'] = profiles_df['Birthday'].apply(lambda date: apply_date_format(date))"
   ]
  },
  {
   "cell_type": "code",
   "execution_count": 83,
   "metadata": {},
   "outputs": [
    {
     "data": {
      "text/plain": [
       "0     1969-10-07\n",
       "1     1979-10-03\n",
       "2     1990-08-10\n",
       "3     1996-10-27\n",
       "4     1991-02-26\n",
       "         ...    \n",
       "343   1988-01-03\n",
       "344   1965-09-26\n",
       "345   2003-07-12\n",
       "346   1994-10-03\n",
       "347   1982-06-27\n",
       "Name: Birthday, Length: 348, dtype: datetime64[ns]"
      ]
     },
     "execution_count": 83,
     "metadata": {},
     "output_type": "execute_result"
    }
   ],
   "source": [
    "profiles_df['Birthday']"
   ]
  },
  {
   "cell_type": "markdown",
   "metadata": {
    "id": "FKlHOEj7aPpt"
   },
   "source": [
    "**TASK 2.2 (5 Points):** Now that we have cleaned up the Birthday column, lets find the age of each person. Create a new column called `Age` that displays the age of the person **on the day of the crime.** Once you are done, display the\n",
    "`profiles_df` dataframe\n",
    "\n",
    "**Outputs to be Graded**\n",
    "- Variable(s): `profiles_df`\n",
    "- Cell outputs"
   ]
  },
  {
   "cell_type": "code",
   "execution_count": 69,
   "metadata": {
    "id": "_p9-0y1hazEz"
   },
   "outputs": [],
   "source": [
    "# Write your code here"
   ]
  },
  {
   "cell_type": "markdown",
   "metadata": {
    "id": "a0gt8jzHgZJQ"
   },
   "source": [
    "**TASK 2.3 (10 Points):** Now that we have created the `Age`; lets clean the `Eye_Color` column.\n",
    "\n",
    "***Please read the directions carefully:***\n",
    "\n",
    "\n",
    "- In order to fill in the missing eye colors, we want to find the **most common eye color** among those who have the **same hair and skin color**.\n",
    "- For instance, if we want to find the eye color of someone who has yellow hair and violet skin:\n",
    " - we would first find everyone who has the same hair and skin color, in this case it would be yellow hair and violet skin\n",
    " - and then we find the most common eye color among them.\n",
    " - we then replace the missing eye color with the eye color that is the most common among the people with the same hair and skin color.\n",
    "- Watch out for redundant data!\n",
    "\n",
    "- ***NOTE: In the case that you find multiple modes, choose the color that appears first in alphabetical order***\n",
    "\n",
    " When you finish filling in the missing eye colors, please **display the `profiles_df`**\n",
    "\n",
    " **Outputs to be Graded**\n",
    " - Variable(s): `profiles_df`\n",
    " - Cell outputs"
   ]
  },
  {
   "cell_type": "code",
   "execution_count": 70,
   "metadata": {
    "id": "gd6uRagRjMhx"
   },
   "outputs": [],
   "source": [
    "# Write your code here"
   ]
  },
  {
   "cell_type": "markdown",
   "metadata": {
    "id": "k14ktiue0Tfi"
   },
   "source": [
    "\n",
    "## Q3) Finding the features of the culprit (43 PTS Total)\n",
    "\n",
    "Now that we have successfully cleaned all of our data, lets begin finding the features of the criminal. Take a moment to look at the `Witnesses` table. We don't necessarily want all the statements from every single witness.\n",
    "\n",
    "**NOTE:** Take a look at the structure of each statement, notice how there are only a few variations of statements from the witnesses.\n",
    "\n",
    "**TASK 3.1 (5 Points):** Find all witnesses that were near the crime scene\n",
    "- First load in the `Witness.csv` file and set it to a variable called `witness_df`\n",
    "- create a new dataframe called `important_witnesses` that contains the id and the witness statements of those who were near the scene of the crime\n",
    "- display the new dataframe when you are finished\n",
    "- **HINT:** look at the floor which the crime happened on.\n",
    "\n",
    "**Outputs to be Graded:**\n",
    "- Variable(s): `witness_df`, `important_witnesses`\n",
    "- Cell outputs"
   ]
  },
  {
   "cell_type": "code",
   "execution_count": 71,
   "metadata": {
    "id": "ismbbFGWw2Hu"
   },
   "outputs": [],
   "source": [
    "# Write your code here"
   ]
  },
  {
   "cell_type": "markdown",
   "metadata": {
    "id": "OHirO_rbw8fV"
   },
   "source": [
    "**TASK 3.2 (10 Points):** Find every potential eye color that the culprit could have\n",
    "\n",
    " - Put all the potential eye colors of the culprit in a list called `potential_eye_colors` and **display** it when you're done.\n",
    " - `potential_eye_colors` should have **no duplicates.**\n",
    "\n",
    " **Outputs to be Graded:**\n",
    " - Variable(s): `potential_eye_colors`\n",
    " - Cell outputs"
   ]
  },
  {
   "cell_type": "code",
   "execution_count": 72,
   "metadata": {
    "id": "iNG-V7QFw9aO"
   },
   "outputs": [],
   "source": [
    "# Write your code here"
   ]
  },
  {
   "cell_type": "markdown",
   "metadata": {
    "id": "3NaknJWew5P1"
   },
   "source": [
    "**TASK 3.3 (5 Points):** Find every potential hair color that the culprit could have\n",
    "\n",
    " - Put all the potential hair colors of the culprit in a list called `potential_hair_colors` and **display** it when you're done.\n",
    "\n",
    "**Outputs to be Graded**\n",
    "- Variables: `potential_hair_colors`\n",
    "- Cell outputs"
   ]
  },
  {
   "cell_type": "code",
   "execution_count": 73,
   "metadata": {
    "id": "7ptAepng3aBc"
   },
   "outputs": [],
   "source": [
    "# Write your code here"
   ]
  },
  {
   "cell_type": "markdown",
   "metadata": {
    "id": "ID0tGLC_3bfv"
   },
   "source": [
    "**TASK 3.4 (5 Points):** Find every potential skin color that the culprit could have\n",
    "\n",
    " - Put all the potential skin colors of the culprit in a list called `potential_skin_colors` and display it when you're done\n",
    "\n",
    "**Outputs to be Graded**\n",
    "- Variable(s): `potential_skin_colors`\n",
    "- Cell outputs"
   ]
  },
  {
   "cell_type": "code",
   "execution_count": 74,
   "metadata": {
    "id": "9S0_khng3fZ7"
   },
   "outputs": [],
   "source": [
    "# Write your code here"
   ]
  },
  {
   "cell_type": "markdown",
   "metadata": {
    "id": "jU8OT78q3t73"
   },
   "source": [
    "**TASK 3.5 (10 Points):** Find the potential height of the culprit\n",
    "\n",
    " - Put the smallest and largest potential heights of the culprit in the variables called `smallest_height` and `largest_height` and display them when you are done\n",
    "\n",
    " **Outputs to be Graded**\n",
    " - Variables: `smallest_height`, `largest_height`\n",
    " - Cell outputs"
   ]
  },
  {
   "cell_type": "code",
   "execution_count": 75,
   "metadata": {
    "id": "Hz4sYBQe3zMT"
   },
   "outputs": [],
   "source": [
    "# Write your code here"
   ]
  },
  {
   "cell_type": "markdown",
   "metadata": {
    "id": "n3bjueSr4LxH"
   },
   "source": [
    "**TASK 3.6 (8 Points):** Find the potential age of the culprit\n",
    "\n",
    " - Put the smallest and largest potential age of the culprit in the variables called `smallest_age` & `largest_age` and display them when you are done\n",
    "\n",
    " **Outputs to be Graded**\n",
    " - Variable(s): `smallest_age`, `largest_age`\n",
    " - Cell outputs"
   ]
  },
  {
   "cell_type": "code",
   "execution_count": 76,
   "metadata": {
    "id": "fP0uPiGP4VgW"
   },
   "outputs": [],
   "source": [
    "# Write your code here"
   ]
  },
  {
   "cell_type": "markdown",
   "metadata": {
    "id": "-T28JmmF4uIs"
   },
   "source": [
    "## Q4) Who owns the Ticket? (30 PTS Total)"
   ]
  },
  {
   "cell_type": "markdown",
   "metadata": {
    "id": "dSTwOUrC4vy6"
   },
   "source": [
    "**TASK 4.1 (2 Points):** Loading final dfs\n",
    "\n",
    "\n",
    "Load in the `Zichao_s_Magic_Show.csv` into a dataframe called `show_df` and the `Interrogation_Statements.csv` into a dataframe called `interrogation_df` respectively and display them when you are done\n",
    "\n",
    "**Outputs to be Graded**\n",
    "- Variables: `show_df`, `interrogation_df`\n",
    "- Cell outputs"
   ]
  },
  {
   "cell_type": "code",
   "execution_count": 77,
   "metadata": {
    "id": "zpD9aMsK49Or"
   },
   "outputs": [],
   "source": [
    "# Write your code here"
   ]
  },
  {
   "cell_type": "markdown",
   "metadata": {
    "id": "jT-hdhl-MdxA"
   },
   "source": [
    "We're **so close** to figuring out the *last* and *final* clue to locate the culprit, but it looks like they are trying to beat us to it! What a devious criminal!\n",
    "\n",
    "The culprit must have **sabotaged** our data after **interrogation** because it looks so wonky with weird symbols.\n",
    "\n",
    "However, HQ informed us that our good friend and exemplar cryptanalyst **Alan Turing** has something to say to help us fix the data. **He encoded his message to keep it safe from the culprit.**\n",
    "\n",
    "**TASK 4.2 (10 Points):**\n",
    "\n",
    "Find what **Alan Turing** has to say:\n",
    "- Use the `interrogation_df` to locate Alan's Turing's message.\n",
    "- Put the message in a variable called `encoded_message` as a string (**Exclude** any **quotation marks** within the statement)\n",
    " - **Print** the encoded message in the following format: {\"Encoded Message:\", encoded_message}\n",
    "- Figure out what the message says by taking a look at the numbers:\n",
    " - A **single space** between numbers indicates a letter to form a word.\n",
    " - A **double space** between numbers indicates the start of a new word.\n",
    "- Store his decoded message in a variable called `decoded_message`\n",
    "- Print out **Alan Turing's** decoded message in the following format: {\"Decoded Message:\", decoded_message}\n",
    "\n",
    "**Outputs to be Graded**\n",
    "- Variable(s): `encoded_message`, `decoded_message`\n",
    "- Cell outputs: The two **formatted** messages"
   ]
  },
  {
   "cell_type": "code",
   "execution_count": 78,
   "metadata": {
    "id": "WjEAh8fOMY1q"
   },
   "outputs": [],
   "source": [
    "# Write your code here"
   ]
  },
  {
   "cell_type": "markdown",
   "metadata": {
    "id": "ftNs9XyDMv_8"
   },
   "source": [
    "**TASK 4.3 (10 Points):** **Restore** the interrogation statements back to their original state after **following the decoded message from before**.\n",
    "- After restoration, make sure your modifications are updated in the `interrogation_df` itself.\n",
    "- **Display** the `interrogation_df` when you are done.\n",
    "\n",
    "**Outputs to be Graded:**\n",
    "- Variable(s): `interrogation_df`\n",
    "- Cell outputs"
   ]
  },
  {
   "cell_type": "code",
   "execution_count": 79,
   "metadata": {
    "id": "ZB8WvlKgMwtq"
   },
   "outputs": [],
   "source": [
    "# Write your code here"
   ]
  },
  {
   "cell_type": "markdown",
   "metadata": {
    "id": "KRzcduTO5fTe"
   },
   "source": [
    "\n",
    "**TASK 4.4 (8 Points):** Create a column called `Ticket_Color` for the `show_df` that displays all the colors of the ticket\n",
    "\n",
    "- Remember that there was a show ticket left at the crime scene, take a second to look through `show_df`. Try and find a way to identify how you can find the ticket color from the ticket number.\n",
    "- **Display** the `show_df` when you are done\n",
    "- **HINT:** examine the `interrogation_df`\n",
    "\n",
    "**Output to be Graded**\n",
    "- Variable(s): `show_df`\n",
    "- Cell outputs"
   ]
  },
  {
   "cell_type": "code",
   "execution_count": 80,
   "metadata": {
    "id": "b9JAdRin8rWX"
   },
   "outputs": [],
   "source": [
    "# Write your code here"
   ]
  },
  {
   "cell_type": "markdown",
   "metadata": {
    "id": "oRbVWV7K8uD-"
   },
   "source": [
    "## Q5) Finding the culprit (12 PTS Total)\n",
    "\n",
    "A helpful function might be the \"iloc\" function. Have a look at: https://pandas.pydata.org/pandas-docs/stable/reference/api/pandas.DataFrame.iloc.html"
   ]
  },
  {
   "cell_type": "markdown",
   "metadata": {
    "id": "8zcamGVmAKOp"
   },
   "source": [
    "**TASK 5.1(10 Points):** Using all the **data compiled from before** find a person that matches all the features from the profile.\n",
    "\n",
    "- Do not hardcode or you will lose credit after all your hardwork 🥸\n",
    "\n",
    "- Put the name of the culprit in a variable called `culprit`\n",
    "- **Print** out the name of the culprit (There is only one).\n",
    "\n",
    "**Outputs to be Graded**\n",
    "- Variable(s): `culprit`\n",
    "- Cell outputs"
   ]
  },
  {
   "cell_type": "code",
   "execution_count": 81,
   "metadata": {
    "id": "atnueiYN_DsX"
   },
   "outputs": [],
   "source": [
    "# Write your code here"
   ]
  },
  {
   "cell_type": "markdown",
   "metadata": {
    "id": "IWNV2rhN_L8d"
   },
   "source": [
    "**TASK 5.2 (2 Points):** Check if your culprit is correct!\n",
    "- **Interrogate** your culprit to see if you got the correct person.\n",
    "- **Print** out their entire statement.\n",
    "\n",
    "**Outputs to be Graded:**\n",
    "- Cell output (the entire statement)\n"
   ]
  },
  {
   "cell_type": "code",
   "execution_count": 82,
   "metadata": {
    "id": "mV_RIdbB_T5w"
   },
   "outputs": [],
   "source": [
    "# Write your code here"
   ]
  },
  {
   "cell_type": "markdown",
   "metadata": {
    "id": "xMktfDH_cNw-"
   },
   "source": [
    "# GREAT WORK DETECTIVE!! 🌻"
   ]
  },
  {
   "cell_type": "markdown",
   "metadata": {
    "id": "cqo2LeXk5LB4"
   },
   "source": [
    "## BONUS (1 point)\n",
    "We have shared an online interactive textbook for CMSC320: Introduction to Data Science. The textbook is still in progress, and more chapters will be published gradually throughout the semester.\n",
    "\n",
    "This short pre-feedback survey will help us understand your experience, preferences, and expectations regarding the textbook format before you start using it.\n",
    "\n",
    "Here is the link to the survey: https://forms.gle/n3Nbmeosoos7tjFa9\n",
    "\n",
    "\n",
    "Here is the link to the textbook:\n",
    " https://ffalam.github.io/CMSC320TextBook/index.html\n",
    "\n",
    "Note: After completing the survey, please take a screenshot of your submission and submit it as proof of participation.\n",
    "\n",
    "This is the bonus question for this assignment only."
   ]
  }
 ],
 "metadata": {
  "colab": {
   "provenance": []
  },
  "kernelspec": {
   "display_name": "Python 3 (ipykernel)",
   "language": "python",
   "name": "python3"
  },
  "language_info": {
   "codemirror_mode": {
    "name": "ipython",
    "version": 3
   },
   "file_extension": ".py",
   "mimetype": "text/x-python",
   "name": "python",
   "nbconvert_exporter": "python",
   "pygments_lexer": "ipython3",
   "version": "3.10.12"
  }
 },
 "nbformat": 4,
 "nbformat_minor": 4
}
